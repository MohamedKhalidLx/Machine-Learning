{
 "cells": [
  {
   "cell_type": "markdown",
   "id": "7d8edd3b",
   "metadata": {},
   "source": [
    "# <font color=Red> Import libraries</font>"
   ]
  },
  {
   "cell_type": "code",
   "execution_count": 1,
   "id": "d557481e",
   "metadata": {},
   "outputs": [],
   "source": [
    "# Load pandas to open file csv\n",
    "import pandas as p"
   ]
  },
  {
   "cell_type": "markdown",
   "id": "256dfc04",
   "metadata": {},
   "source": [
    "# <font color=\"red\">Read the number of features in \"smoke_detection_iot\" file using pandas library in python.</font>"
   ]
  },
  {
   "cell_type": "code",
   "execution_count": 2,
   "id": "543c7736",
   "metadata": {},
   "outputs": [
    {
     "name": "stdout",
     "output_type": "stream",
     "text": [
      "The number of features = 14\n"
     ]
    }
   ],
   "source": [
    "# load data\n",
    "filePath = r'D:\\AOU\\Machine Learning\\Lec 6\\smoke_detection_iot.csv'\n",
    "\n",
    "# Read the CSV file\n",
    "data= p.read_csv(filePath)\n",
    "\n",
    "# Declaration for x and y as a number of rows and number of columns\n",
    "x, y = data.shape\n",
    "\n",
    "# We have 2 columns can ignore (num, target), because aren't features.\n",
    "Number_Of_Features = y - 2\n",
    "\n",
    "# Print the number of features (columns)\n",
    "print(f'The number of features = {Number_Of_Features}')"
   ]
  },
  {
   "cell_type": "markdown",
   "id": "9aafec96",
   "metadata": {},
   "source": [
    "# <font color=\"red\"> Read the number of data and show the description </font>"
   ]
  },
  {
   "cell_type": "code",
   "execution_count": 3,
   "id": "2eb857b2",
   "metadata": {},
   "outputs": [
    {
     "name": "stdout",
     "output_type": "stream",
     "text": [
      "Number of rows = 62630\n",
      "Number of columns = 16\n",
      "The shape = (62630, 16)\n",
      "Number of data = 1002080\n",
      "Description of the data:\n",
      "                num           UTC   Temperature      Humidity          TVOC  \\\n",
      "count  62630.000000  6.263000e+04  62630.000000  62630.000000  62630.000000   \n",
      "mean   31314.500000  1.654792e+09     15.970424     48.539499   1942.057528   \n",
      "std    18079.868017  1.100025e+05     14.359576      8.865367   7811.589055   \n",
      "min        0.000000  1.654712e+09    -22.010000     10.740000      0.000000   \n",
      "25%    15657.250000  1.654743e+09     10.994250     47.530000    130.000000   \n",
      "50%    31314.500000  1.654762e+09     20.130000     50.150000    981.000000   \n",
      "75%    46971.750000  1.654778e+09     25.409500     53.240000   1189.000000   \n",
      "max    62629.000000  1.655130e+09     59.930000     75.200000  60000.000000   \n",
      "\n",
      "               eCO2        Raw_H2   Raw_Ethanol      Pressure           PM1  \\\n",
      "count  62630.000000  62630.000000  62630.000000  62630.000000  62630.000000   \n",
      "mean     670.021044  12942.453936  19754.257912    938.627649    100.594309   \n",
      "std     1905.885439    272.464305    609.513156      1.331344    922.524245   \n",
      "min      400.000000  10668.000000  15317.000000    930.852000      0.000000   \n",
      "25%      400.000000  12830.000000  19435.000000    938.700000      1.280000   \n",
      "50%      400.000000  12924.000000  19501.000000    938.816000      1.810000   \n",
      "75%      438.000000  13109.000000  20078.000000    939.418000      2.090000   \n",
      "max    60000.000000  13803.000000  21410.000000    939.861000  14333.690000   \n",
      "\n",
      "                PM2           NC0           NC1           NC2           CNT  \\\n",
      "count  62630.000000  62630.000000  62630.000000  62630.000000  62630.000000   \n",
      "mean     184.467770    491.463608    203.586487     80.049042  10511.386157   \n",
      "std     1976.305615   4265.661251   2214.738556   1083.383189   7597.870997   \n",
      "min        0.000000      0.000000      0.000000      0.000000      0.000000   \n",
      "25%        1.340000      8.820000      1.384000      0.033000   3625.250000   \n",
      "50%        1.880000     12.450000      1.943000      0.044000   9336.000000   \n",
      "75%        2.180000     14.420000      2.249000      0.051000  17164.750000   \n",
      "max    45432.260000  61482.030000  51914.680000  30026.438000  24993.000000   \n",
      "\n",
      "         Fire_Alarm  \n",
      "count  62630.000000  \n",
      "mean       0.714626  \n",
      "std        0.451596  \n",
      "min        0.000000  \n",
      "25%        0.000000  \n",
      "50%        1.000000  \n",
      "75%        1.000000  \n",
      "max        1.000000  \n"
     ]
    }
   ],
   "source": [
    "# Calculate the number of all data \n",
    "total_elements = x * y\n",
    "\n",
    "# Print the result\n",
    "print(f'Number of rows = {x}')\n",
    "print(f'Number of columns = {y}')\n",
    "print(f'The shape = {data.shape}')\n",
    "print(f'Number of data = {total_elements}')\n",
    "\n",
    "# To print the description of the data\n",
    "print(\"Description of the data:\")\n",
    "print(data.describe())"
   ]
  },
  {
   "cell_type": "markdown",
   "id": "0c88a688",
   "metadata": {},
   "source": [
    "# <font color =\"red\"> Drop column (UTC) in file using pandas library in python </font>"
   ]
  },
  {
   "cell_type": "code",
   "execution_count": 4,
   "id": "aad0bca0",
   "metadata": {},
   "outputs": [
    {
     "name": "stdout",
     "output_type": "stream",
     "text": [
      "Data after modifying = \n",
      "    num  Temperature  Humidity  TVOC  eCO2  Raw_H2  Raw_Ethanol  Pressure  PM1  \\\n",
      "0    0       20.000     57.36     0   400   12306        18520   939.735  0.0   \n",
      "1    1       20.015     56.67     0   400   12345        18651   939.744  0.0   \n",
      "2    2       20.029     55.96     0   400   12374        18764   939.738  0.0   \n",
      "3    3       20.044     55.28     0   400   12390        18849   939.736  0.0   \n",
      "4    4       20.059     54.69     0   400   12403        18921   939.744  0.0   \n",
      "\n",
      "   PM2  NC0  NC1  NC2  CNT  Fire_Alarm  \n",
      "0  0.0  0.0  0.0  0.0    0           0  \n",
      "1  0.0  0.0  0.0  0.0    1           0  \n",
      "2  0.0  0.0  0.0  0.0    2           0  \n",
      "3  0.0  0.0  0.0  0.0    3           0  \n",
      "4  0.0  0.0  0.0  0.0    4           0  \n"
     ]
    }
   ],
   "source": [
    "# Drop the \"UTC\" column\n",
    "data = data.drop(\"UTC\", axis='columns')\n",
    "\n",
    "# To check\n",
    "print(f'Data after modifying = \\n {data.head()}')"
   ]
  }
 ],
 "metadata": {
  "kernelspec": {
   "display_name": "Python 3 (ipykernel)",
   "language": "python",
   "name": "python3"
  },
  "language_info": {
   "codemirror_mode": {
    "name": "ipython",
    "version": 3
   },
   "file_extension": ".py",
   "mimetype": "text/x-python",
   "name": "python",
   "nbconvert_exporter": "python",
   "pygments_lexer": "ipython3",
   "version": "3.10.9"
  }
 },
 "nbformat": 4,
 "nbformat_minor": 5
}
