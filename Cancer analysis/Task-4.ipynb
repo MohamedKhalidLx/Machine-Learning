{
 "cells": [
  {
   "cell_type": "markdown",
   "id": "b0b7dbb8",
   "metadata": {},
   "source": [
    "    Import libraries"
   ]
  },
  {
   "cell_type": "code",
   "execution_count": 2,
   "id": "483c57d8",
   "metadata": {},
   "outputs": [],
   "source": [
    "import numpy as n\n",
    "import pandas as p\n",
    "import matplotlib.pyplot as m"
   ]
  },
  {
   "cell_type": "markdown",
   "id": "cc0845c7",
   "metadata": {},
   "source": [
    "    Read and named columns 1 to 13 and last column is : Target. "
   ]
  },
  {
   "cell_type": "code",
   "execution_count": 5,
   "id": "ac00e29e",
   "metadata": {},
   "outputs": [
    {
     "name": "stdout",
     "output_type": "stream",
     "text": [
      "Data= \n",
      "    C-one  C-two  C-three  C-four  C-five  C-six  C-seven  C-eight  C-nine  \\\n",
      "0      63      1        3     145     233      1        0      150       0   \n",
      "1      37      1        2     130     250      0        1      187       0   \n",
      "2      41      0        1     130     204      0        0      172       0   \n",
      "3      56      1        1     120     236      0        1      178       0   \n",
      "4      57      0        0     120     354      0        1      163       1   \n",
      "5      57      1        0     140     192      0        1      148       0   \n",
      "6      56      0        1     140     294      0        0      153       0   \n",
      "7      44      1        1     120     263      0        1      173       0   \n",
      "8      52      1        2     172     199      1        1      162       0   \n",
      "9      57      1        2     150     168      0        1      174       0   \n",
      "10     54      1        0     140     239      0        1      160       0   \n",
      "11     48      0        2     130     275      0        1      139       0   \n",
      "12     49      1        1     130     266      0        1      171       0   \n",
      "13     64      1        3     110     211      0        0      144       1   \n",
      "14     58      0        3     150     283      1        0      162       0   \n",
      "15     50      0        2     120     219      0        1      158       0   \n",
      "16     58      0        2     120     340      0        1      172       0   \n",
      "17     66      0        3     150     226      0        1      114       0   \n",
      "18     43      1        0     150     247      0        1      171       0   \n",
      "19     69      0        3     140     239      0        1      151       0   \n",
      "\n",
      "    C-ten  C-eleven  C-twelve  C-thirteen  Target  \n",
      "0     2.3         0         0           1       1  \n",
      "1     3.5         0         0           2       1  \n",
      "2     1.4         2         0           2       1  \n",
      "3     0.8         2         0           2       1  \n",
      "4     0.6         2         0           2       1  \n",
      "5     0.4         1         0           1       1  \n",
      "6     1.3         1         0           2       1  \n",
      "7     0.0         2         0           3       1  \n",
      "8     0.5         2         0           3       1  \n",
      "9     1.6         2         0           2       1  \n",
      "10    1.2         2         0           2       1  \n",
      "11    0.2         2         0           2       1  \n",
      "12    0.6         2         0           2       1  \n",
      "13    1.8         1         0           2       1  \n",
      "14    1.0         2         0           2       1  \n",
      "15    1.6         1         0           2       1  \n",
      "16    0.0         2         0           2       1  \n",
      "17    2.6         0         0           2       1  \n",
      "18    1.5         2         0           2       1  \n",
      "19    1.8         2         2           2       1  \n",
      "\n",
      "Data Describet\n",
      "            C-one       C-two     C-three      C-four      C-five       C-six  \\\n",
      "count  303.000000  303.000000  303.000000  303.000000  303.000000  303.000000   \n",
      "mean    54.366337    0.683168    0.966997  131.623762  246.264026    0.148515   \n",
      "std      9.082101    0.466011    1.032052   17.538143   51.830751    0.356198   \n",
      "min     29.000000    0.000000    0.000000   94.000000  126.000000    0.000000   \n",
      "25%     47.500000    0.000000    0.000000  120.000000  211.000000    0.000000   \n",
      "50%     55.000000    1.000000    1.000000  130.000000  240.000000    0.000000   \n",
      "75%     61.000000    1.000000    2.000000  140.000000  274.500000    0.000000   \n",
      "max     77.000000    1.000000    3.000000  200.000000  564.000000    1.000000   \n",
      "\n",
      "          C-seven     C-eight      C-nine       C-ten    C-eleven    C-twelve  \\\n",
      "count  303.000000  303.000000  303.000000  303.000000  303.000000  303.000000   \n",
      "mean     0.528053  149.646865    0.326733    1.039604    1.399340    0.729373   \n",
      "std      0.525860   22.905161    0.469794    1.161075    0.616226    1.022606   \n",
      "min      0.000000   71.000000    0.000000    0.000000    0.000000    0.000000   \n",
      "25%      0.000000  133.500000    0.000000    0.000000    1.000000    0.000000   \n",
      "50%      1.000000  153.000000    0.000000    0.800000    1.000000    0.000000   \n",
      "75%      1.000000  166.000000    1.000000    1.600000    2.000000    1.000000   \n",
      "max      2.000000  202.000000    1.000000    6.200000    2.000000    4.000000   \n",
      "\n",
      "       C-thirteen      Target  \n",
      "count  303.000000  303.000000  \n",
      "mean     2.313531    0.544554  \n",
      "std      0.612277    0.498835  \n",
      "min      0.000000    0.000000  \n",
      "25%      2.000000    0.000000  \n",
      "50%      2.000000    1.000000  \n",
      "75%      3.000000    1.000000  \n",
      "max      3.000000    1.000000  \n"
     ]
    }
   ],
   "source": [
    "filePath = r'Data\heart cancer.txt',
    "\n",
    "info = p.read_csv(filePath, header=None, names=['C-one','C-two','C-three','C-four','C-five','C-six','C-seven','C-eight','C-nine','C-ten','C-eleven','C-twelve','C-thirteen','Target'])\n",
    "\n",
    "print('Data= ')\n",
    "print(info.head(20))\n",
    "print()\n",
    "print('Data Describet')\n",
    "print(info.describe())"
   ]
  },
  {
   "cell_type": "markdown",
   "id": "c0a15a62",
   "metadata": {},
   "source": [
    "    Rearrange data named (cancer, not cancer)"
   ]
  },
  {
   "cell_type": "code",
   "execution_count": 7,
   "id": "48b8c607",
   "metadata": {},
   "outputs": [
    {
     "name": "stdout",
     "output_type": "stream",
     "text": [
      "................................................\n",
      "Cancer data\n",
      "     C-one  C-two  C-three  C-four  C-five  C-six  C-seven  C-eight  C-nine  \\\n",
      "0       63      1        3     145     233      1        0      150       0   \n",
      "1       37      1        2     130     250      0        1      187       0   \n",
      "2       41      0        1     130     204      0        0      172       0   \n",
      "3       56      1        1     120     236      0        1      178       0   \n",
      "4       57      0        0     120     354      0        1      163       1   \n",
      "..     ...    ...      ...     ...     ...    ...      ...      ...     ...   \n",
      "160     56      1        1     120     240      0        1      169       0   \n",
      "161     55      0        1     132     342      0        1      166       0   \n",
      "162     41      1        1     120     157      0        1      182       0   \n",
      "163     38      1        2     138     175      0        1      173       0   \n",
      "164     38      1        2     138     175      0        1      173       0   \n",
      "\n",
      "     C-ten  C-eleven  C-twelve  C-thirteen  Target  \n",
      "0      2.3         0         0           1       1  \n",
      "1      3.5         0         0           2       1  \n",
      "2      1.4         2         0           2       1  \n",
      "3      0.8         2         0           2       1  \n",
      "4      0.6         2         0           2       1  \n",
      "..     ...       ...       ...         ...     ...  \n",
      "160    0.0         0         0           2       1  \n",
      "161    1.2         2         0           2       1  \n",
      "162    0.0         2         0           2       1  \n",
      "163    0.0         2         4           2       1  \n",
      "164    0.0         2         4           2       1  \n",
      "\n",
      "[165 rows x 14 columns]\n",
      "................................................\n",
      "Not cancer data\n",
      "     C-one  C-two  C-three  C-four  C-five  C-six  C-seven  C-eight  C-nine  \\\n",
      "165     67      1        0     160     286      0        0      108       1   \n",
      "166     67      1        0     120     229      0        0      129       1   \n",
      "167     62      0        0     140     268      0        0      160       0   \n",
      "168     63      1        0     130     254      0        0      147       0   \n",
      "169     53      1        0     140     203      1        0      155       1   \n",
      "..     ...    ...      ...     ...     ...    ...      ...      ...     ...   \n",
      "298     57      0        0     140     241      0        1      123       1   \n",
      "299     45      1        3     110     264      0        1      132       0   \n",
      "300     68      1        0     144     193      1        1      141       0   \n",
      "301     57      1        0     130     131      0        1      115       1   \n",
      "302     57      0        1     130     236      0        0      174       0   \n",
      "\n",
      "     C-ten  C-eleven  C-twelve  C-thirteen  Target  \n",
      "165    1.5         1         3           2       0  \n",
      "166    2.6         1         2           3       0  \n",
      "167    3.6         0         2           2       0  \n",
      "168    1.4         1         1           3       0  \n",
      "169    3.1         0         0           3       0  \n",
      "..     ...       ...       ...         ...     ...  \n",
      "298    0.2         1         0           3       0  \n",
      "299    1.2         1         0           3       0  \n",
      "300    3.4         1         2           3       0  \n",
      "301    1.2         1         1           3       0  \n",
      "302    0.0         1         1           2       0  \n",
      "\n",
      "[138 rows x 14 columns]\n",
      "................................................\n"
     ]
    }
   ],
   "source": [
    "cancer = info[info['Target'].isin([1])]\n",
    "notCancer = info[info['Target'].isin([0])]\n",
    "\n",
    "print('................................................')\n",
    "print('Cancer data')\n",
    "print(cancer)\n",
    "print('................................................')\n",
    "print('Not cancer data')\n",
    "print(notCancer)\n",
    "print('................................................')\n"
   ]
  },
  {
   "cell_type": "markdown",
   "id": "deb42e0f",
   "metadata": {},
   "source": [
    "    Print shape"
   ]
  },
  {
   "cell_type": "code",
   "execution_count": 22,
   "id": "6f949f0d",
   "metadata": {},
   "outputs": [
    {
     "data": {
      "image/png": "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\n",
      "text/plain": [
       "<Figure size 640x480 with 1 Axes>"
      ]
     },
     "metadata": {},
     "output_type": "display_data"
    }
   ],
   "source": [
    "m.scatter(cancer['C-one'], cancer['C-two'],  color='red', label='Cancer')\n",
    "m.scatter(notCancer['C-one'], notCancer['C-two'], color='blue', label='Not Cancer')\n",
    "\n",
    "m.title('Shape of the Data')\n",
    "m.xlabel('C-one')\n",
    "m.ylabel('C-two')\n",
    "\n",
    "m.legend(loc='upper right')\n",
    "m.show()"
   ]
  },
  {
   "cell_type": "code",
   "execution_count": null,
   "id": "84d17750",
   "metadata": {},
   "outputs": [],
   "source": []
  }
 ],
 "metadata": {
  "kernelspec": {
   "display_name": "Python 3 (ipykernel)",
   "language": "python",
   "name": "python3"
  },
  "language_info": {
   "codemirror_mode": {
    "name": "ipython",
    "version": 3
   },
   "file_extension": ".py",
   "mimetype": "text/x-python",
   "name": "python",
   "nbconvert_exporter": "python",
   "pygments_lexer": "ipython3",
   "version": "3.10.9"
  }
 },
 "nbformat": 4,
 "nbformat_minor": 5
}
